{
 "cells":[
  {
   "cell_type":"code",
   "source":[
    "import matplotlib.pyplot as plt\n",
    "from sklearn import datasets,metrics,svm\n",
    "from sklearn.model_selection import train_test_split"
   ],
   "execution_count":1,
   "outputs":[
    
   ],
   "metadata":{
    "datalore":{
     "node_id":"wHWVvR4sysO50myaABptsy",
     "type":"CODE",
     "hide_input_from_viewers":true,
     "hide_output_from_viewers":true
    }
   }
  },
  {
   "cell_type":"code",
   "source":[
    "digits = datasets.load_digits()\n",
    "\n",
    "_, axes = plt.subplots(nrows=1,ncols=4,figsize=(10,3))\n",
    "for ax,image,label in zip(axes,digits.images,digits.target):\n",
    "    ax.set_axis_off()\n",
    "    ax.imshow(image,cmap=plt.cm.gray_r,interpolation=\"nearest\")\n",
    "    ax.set_title(f\"Trening: {label}\")"
   ],
   "execution_count":2,
   "outputs":[
    {
     "data":{
      "image\/png":"[encoded data removed]"
     },
     "metadata":{
      "image\/png":{
       
      }
     },
     "output_type":"display_data"
    }
   ],
   "metadata":{
    "datalore":{
     "node_id":"9VaI46Oe2H1pFz7IMtkst9",
     "type":"CODE",
     "hide_input_from_viewers":true,
     "hide_output_from_viewers":true
    }
   }
  }
 ],
 "metadata":{
  "kernelspec":{
   "display_name":"Python",
   "language":"python",
   "name":"python"
  },
  "datalore":{
   "computation_mode":"JUPYTER",
   "package_manager":"pip",
   "base_environment":"default",
   "packages":[
    
   ],
   "report_row_ids":[
    
   ],
   "version":3
  }
 },
 "nbformat":4,
 "nbformat_minor":4
}