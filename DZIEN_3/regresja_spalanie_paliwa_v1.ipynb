{
 "cells":[
  {
   "cell_type":"code",
   "source":[
    "import matplotlib.pyplot as plt\n",
    "import numpy as np\n",
    "import pandas as pd\n",
    "import seaborn as sns\n",
    "np.set_printoptions(precision=3,suppress=True)"
   ],
   "execution_count":1,
   "outputs":[
    
   ],
   "metadata":{
    "datalore":{
     "node_id":"UuVVxENso57C2jaYNo5ckj",
     "type":"CODE",
     "hide_input_from_viewers":true,
     "hide_output_from_viewers":true
    }
   }
  },
  {
   "cell_type":"code",
   "source":[
    "import tensorflow as tf\n",
    "from tensorflow import keras\n",
    "from tensorflow.keras import layers"
   ],
   "execution_count":2,
   "outputs":[
    
   ],
   "metadata":{
    "datalore":{
     "node_id":"xmnJw4qEuMal3DvofzMZ1D",
     "type":"CODE",
     "hide_input_from_viewers":true,
     "hide_output_from_viewers":true
    }
   }
  },
  {
   "cell_type":"code",
   "source":[
    "url = 'http:\/\/archive.ics.uci.edu\/ml\/machine-learning-databases\/auto-mpg\/auto-mpg.data'\n",
    "column_names = ['MPG','Cylinders','Displacement','Horsepower','Weight','Acceleration','Model Year','Origin']\n",
    "\n",
    "raw_dataset = pd.read_csv(url,names=column_names,na_values='?', comment='\\t', sep=' ', skipinitialspace=True)"
   ],
   "execution_count":3,
   "outputs":[
    
   ],
   "metadata":{
    "datalore":{
     "node_id":"8yK78fcihP0t2fxyGmoBTO",
     "type":"CODE",
     "hide_input_from_viewers":true,
     "hide_output_from_viewers":true
    }
   }
  },
  {
   "cell_type":"code",
   "source":[
    "dataset = raw_dataset.copy()\n",
    "dataset.tail()"
   ],
   "execution_count":4,
   "outputs":[
    {
     "data":{
      "text\/html":[
       "<div>\n",
       "<style scoped>\n",
       "    .dataframe tbody tr th:only-of-type {\n",
       "        vertical-align: middle;\n",
       "    }\n",
       "\n",
       "    .dataframe tbody tr th {\n",
       "        vertical-align: top;\n",
       "    }\n",
       "\n",
       "    .dataframe thead th {\n",
       "        text-align: right;\n",
       "    }\n",
       "<\/style>\n",
       "<table border=\"1\" class=\"dataframe\">\n",
       "  <thead>\n",
       "    <tr style=\"text-align: right;\">\n",
       "      <th><\/th>\n",
       "      <th>MPG<\/th>\n",
       "      <th>Cylinders<\/th>\n",
       "      <th>Displacement<\/th>\n",
       "      <th>Horsepower<\/th>\n",
       "      <th>Weight<\/th>\n",
       "      <th>Acceleration<\/th>\n",
       "      <th>Model Year<\/th>\n",
       "      <th>Origin<\/th>\n",
       "    <\/tr>\n",
       "  <\/thead>\n",
       "  <tbody>\n",
       "    <tr>\n",
       "      <th>393<\/th>\n",
       "      <td>27.0<\/td>\n",
       "      <td>4<\/td>\n",
       "      <td>140.0<\/td>\n",
       "      <td>86.0<\/td>\n",
       "      <td>2790.0<\/td>\n",
       "      <td>15.6<\/td>\n",
       "      <td>82<\/td>\n",
       "      <td>1<\/td>\n",
       "    <\/tr>\n",
       "    <tr>\n",
       "      <th>394<\/th>\n",
       "      <td>44.0<\/td>\n",
       "      <td>4<\/td>\n",
       "      <td>97.0<\/td>\n",
       "      <td>52.0<\/td>\n",
       "      <td>2130.0<\/td>\n",
       "      <td>24.6<\/td>\n",
       "      <td>82<\/td>\n",
       "      <td>2<\/td>\n",
       "    <\/tr>\n",
       "    <tr>\n",
       "      <th>395<\/th>\n",
       "      <td>32.0<\/td>\n",
       "      <td>4<\/td>\n",
       "      <td>135.0<\/td>\n",
       "      <td>84.0<\/td>\n",
       "      <td>2295.0<\/td>\n",
       "      <td>11.6<\/td>\n",
       "      <td>82<\/td>\n",
       "      <td>1<\/td>\n",
       "    <\/tr>\n",
       "    <tr>\n",
       "      <th>396<\/th>\n",
       "      <td>28.0<\/td>\n",
       "      <td>4<\/td>\n",
       "      <td>120.0<\/td>\n",
       "      <td>79.0<\/td>\n",
       "      <td>2625.0<\/td>\n",
       "      <td>18.6<\/td>\n",
       "      <td>82<\/td>\n",
       "      <td>1<\/td>\n",
       "    <\/tr>\n",
       "    <tr>\n",
       "      <th>397<\/th>\n",
       "      <td>31.0<\/td>\n",
       "      <td>4<\/td>\n",
       "      <td>119.0<\/td>\n",
       "      <td>82.0<\/td>\n",
       "      <td>2720.0<\/td>\n",
       "      <td>19.4<\/td>\n",
       "      <td>82<\/td>\n",
       "      <td>1<\/td>\n",
       "    <\/tr>\n",
       "  <\/tbody>\n",
       "<\/table>\n",
       "<\/div>"
      ]
     },
     "metadata":{
      
     },
     "output_type":"display_data"
    }
   ],
   "metadata":{
    "datalore":{
     "node_id":"i720oDd5s5Bv7VjJepkwEg",
     "type":"CODE",
     "hide_input_from_viewers":true,
     "hide_output_from_viewers":true
    }
   }
  },
  {
   "cell_type":"code",
   "source":[
    "dataset.isna().sum()"
   ],
   "execution_count":5,
   "outputs":[
    {
     "data":{
      "text\/html":[
       "<pre>MPG             0\n",
       "Cylinders       0\n",
       "Displacement    0\n",
       "Horsepower      6\n",
       "Weight          0\n",
       "Acceleration    0\n",
       "Model Year      0\n",
       "Origin          0\n",
       "dtype: int64<\/pre>"
      ]
     },
     "metadata":{
      
     },
     "output_type":"display_data"
    }
   ],
   "metadata":{
    "datalore":{
     "node_id":"3IZGtdaa7GkdtD7cAKpClQ",
     "type":"CODE",
     "hide_input_from_viewers":true,
     "hide_output_from_viewers":true
    }
   }
  },
  {
   "cell_type":"code",
   "source":[
    "dataset = dataset.dropna()"
   ],
   "execution_count":6,
   "outputs":[
    
   ],
   "metadata":{
    "datalore":{
     "node_id":"UDsd7aDB2pRJVd11JodgEm",
     "type":"CODE",
     "hide_input_from_viewers":true,
     "hide_output_from_viewers":true
    }
   }
  },
  {
   "cell_type":"code",
   "source":[
    "dataset.isna().sum()"
   ],
   "execution_count":7,
   "outputs":[
    {
     "data":{
      "text\/html":[
       "<pre>MPG             0\n",
       "Cylinders       0\n",
       "Displacement    0\n",
       "Horsepower      0\n",
       "Weight          0\n",
       "Acceleration    0\n",
       "Model Year      0\n",
       "Origin          0\n",
       "dtype: int64<\/pre>"
      ]
     },
     "metadata":{
      
     },
     "output_type":"display_data"
    }
   ],
   "metadata":{
    "datalore":{
     "node_id":"Pzv22alP0qQeohK3DrMDXr",
     "type":"CODE",
     "hide_input_from_viewers":true,
     "hide_output_from_viewers":true
    }
   }
  },
  {
   "cell_type":"code",
   "source":[
    "dataset['Origin'] = dataset['Origin'].map({1:'USA',2:'Europe',3:'Japan'})"
   ],
   "execution_count":8,
   "outputs":[
    
   ],
   "metadata":{
    "datalore":{
     "node_id":"j1PFHevHmt1pi2WrmRkSPX",
     "type":"CODE",
     "hide_input_from_viewers":true,
     "hide_output_from_viewers":true
    }
   }
  },
  {
   "cell_type":"code",
   "source":[
    "dataset = pd.get_dummies(dataset,columns=['Origin'], prefix='', prefix_sep='')\n",
    "dataset.tail()"
   ],
   "execution_count":9,
   "outputs":[
    {
     "data":{
      "text\/html":[
       "<div>\n",
       "<style scoped>\n",
       "    .dataframe tbody tr th:only-of-type {\n",
       "        vertical-align: middle;\n",
       "    }\n",
       "\n",
       "    .dataframe tbody tr th {\n",
       "        vertical-align: top;\n",
       "    }\n",
       "\n",
       "    .dataframe thead th {\n",
       "        text-align: right;\n",
       "    }\n",
       "<\/style>\n",
       "<table border=\"1\" class=\"dataframe\">\n",
       "  <thead>\n",
       "    <tr style=\"text-align: right;\">\n",
       "      <th><\/th>\n",
       "      <th>MPG<\/th>\n",
       "      <th>Cylinders<\/th>\n",
       "      <th>Displacement<\/th>\n",
       "      <th>Horsepower<\/th>\n",
       "      <th>Weight<\/th>\n",
       "      <th>Acceleration<\/th>\n",
       "      <th>Model Year<\/th>\n",
       "      <th>Europe<\/th>\n",
       "      <th>Japan<\/th>\n",
       "      <th>USA<\/th>\n",
       "    <\/tr>\n",
       "  <\/thead>\n",
       "  <tbody>\n",
       "    <tr>\n",
       "      <th>393<\/th>\n",
       "      <td>27.0<\/td>\n",
       "      <td>4<\/td>\n",
       "      <td>140.0<\/td>\n",
       "      <td>86.0<\/td>\n",
       "      <td>2790.0<\/td>\n",
       "      <td>15.6<\/td>\n",
       "      <td>82<\/td>\n",
       "      <td>0<\/td>\n",
       "      <td>0<\/td>\n",
       "      <td>1<\/td>\n",
       "    <\/tr>\n",
       "    <tr>\n",
       "      <th>394<\/th>\n",
       "      <td>44.0<\/td>\n",
       "      <td>4<\/td>\n",
       "      <td>97.0<\/td>\n",
       "      <td>52.0<\/td>\n",
       "      <td>2130.0<\/td>\n",
       "      <td>24.6<\/td>\n",
       "      <td>82<\/td>\n",
       "      <td>1<\/td>\n",
       "      <td>0<\/td>\n",
       "      <td>0<\/td>\n",
       "    <\/tr>\n",
       "    <tr>\n",
       "      <th>395<\/th>\n",
       "      <td>32.0<\/td>\n",
       "      <td>4<\/td>\n",
       "      <td>135.0<\/td>\n",
       "      <td>84.0<\/td>\n",
       "      <td>2295.0<\/td>\n",
       "      <td>11.6<\/td>\n",
       "      <td>82<\/td>\n",
       "      <td>0<\/td>\n",
       "      <td>0<\/td>\n",
       "      <td>1<\/td>\n",
       "    <\/tr>\n",
       "    <tr>\n",
       "      <th>396<\/th>\n",
       "      <td>28.0<\/td>\n",
       "      <td>4<\/td>\n",
       "      <td>120.0<\/td>\n",
       "      <td>79.0<\/td>\n",
       "      <td>2625.0<\/td>\n",
       "      <td>18.6<\/td>\n",
       "      <td>82<\/td>\n",
       "      <td>0<\/td>\n",
       "      <td>0<\/td>\n",
       "      <td>1<\/td>\n",
       "    <\/tr>\n",
       "    <tr>\n",
       "      <th>397<\/th>\n",
       "      <td>31.0<\/td>\n",
       "      <td>4<\/td>\n",
       "      <td>119.0<\/td>\n",
       "      <td>82.0<\/td>\n",
       "      <td>2720.0<\/td>\n",
       "      <td>19.4<\/td>\n",
       "      <td>82<\/td>\n",
       "      <td>0<\/td>\n",
       "      <td>0<\/td>\n",
       "      <td>1<\/td>\n",
       "    <\/tr>\n",
       "  <\/tbody>\n",
       "<\/table>\n",
       "<\/div>"
      ]
     },
     "metadata":{
      
     },
     "output_type":"display_data"
    }
   ],
   "metadata":{
    "datalore":{
     "node_id":"VdAA7YiQW3bVJWqFdP8y2p",
     "type":"CODE",
     "hide_input_from_viewers":true,
     "hide_output_from_viewers":true
    }
   }
  }
 ],
 "metadata":{
  "kernelspec":{
   "display_name":"Python",
   "language":"python",
   "name":"python"
  },
  "datalore":{
   "computation_mode":"JUPYTER",
   "package_manager":"pip",
   "base_environment":"default",
   "packages":[
    
   ],
   "report_row_ids":[
    
   ],
   "version":3
  }
 },
 "nbformat":4,
 "nbformat_minor":4
}