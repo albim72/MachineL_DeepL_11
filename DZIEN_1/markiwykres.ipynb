{
 "cells":[
  {
   "cell_type":"code",
   "source":[
    "import matplotlib.pyplot as plt"
   ],
   "execution_count":2,
   "outputs":[
    
   ],
   "metadata":{
    "datalore":{
     "node_id":"Htqa1ndGjx8wZoCgzkkfQg",
     "type":"CODE",
     "hide_input_from_viewers":true,
     "hide_output_from_viewers":true
    }
   }
  },
  {
   "cell_type":"code",
   "source":[
    "fig,ax = plt.subplots()\n",
    "marki = ['audi','toyota','fiat','kia']\n",
    "sprzed = [23,35,37,33]\n",
    "\n",
    "bar_labels = ['audi','toyota','fiat','kia']\n",
    "bar_colors = ['tab:red','tab:green','tab:blue','tab:orange']\n",
    "\n",
    "ax.bar(marki,sprzed,label=bar_labels, color=bar_colors)\n",
    "ax.set_ylabel('sprzedaż wybranych marek')\n",
    "ax.set_xlabel('marki samochodów')\n",
    "# ax.grid()\n",
    "ax.legend(title='marki')\n",
    "plt.show()"
   ],
   "execution_count":6,
   "outputs":[
    {
     "data":{
      "image\/png":"[encoded data removed]"
     },
     "metadata":{
      "image\/png":{
       
      }
     },
     "output_type":"display_data"
    }
   ],
   "metadata":{
    "datalore":{
     "node_id":"vSjwMnikJq1aFnoc9XUSMJ",
     "type":"CODE",
     "hide_input_from_viewers":true,
     "hide_output_from_viewers":true
    }
   }
  }
 ],
 "metadata":{
  "kernelspec":{
   "display_name":"Python",
   "language":"python",
   "name":"python"
  },
  "datalore":{
   "computation_mode":"JUPYTER",
   "package_manager":"pip",
   "base_environment":"default",
   "packages":[
    
   ],
   "report_row_ids":[
    
   ],
   "version":3
  }
 },
 "nbformat":4,
 "nbformat_minor":4
}